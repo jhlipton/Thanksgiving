{
 "cells": [
  {
   "cell_type": "code",
   "execution_count": 1,
   "metadata": {
    "collapsed": true
   },
   "outputs": [],
   "source": [
    "import pandas as pd\n",
    "import re"
   ]
  },
  {
   "cell_type": "code",
   "execution_count": 2,
   "metadata": {
    "collapsed": true
   },
   "outputs": [],
   "source": [
    "def calc_col_sum(df, col_name):\n",
    "    df_unique = df[col_name].unique()\n",
    "    df_total_sum = dict()\n",
    "\n",
    "    for row in df_unique:\n",
    "        col_df = df[df[col_name] == row]\n",
    "        total_num = col_df[col_name].count()\n",
    "        df_total_sum[row] = total_num\n",
    "        \n",
    "    return df_total_sums\n",
    "\n",
    "def calc_col_counts(df, col_name):\n",
    "    df_unique = df[col_name].unique()\n",
    "    df_total_count = dict()\n",
    "\n",
    "    for row in df_unique:\n",
    "        col_df = df[df[col_name] == row]\n",
    "        total_num = col_df[col_name].count()\n",
    "        df_total_count[row] = total_num\n",
    "        \n",
    "    return df_total_count"
   ]
  },
  {
   "cell_type": "code",
   "execution_count": 3,
   "metadata": {
    "collapsed": true
   },
   "outputs": [],
   "source": [
    "def str_to_int(in_str):\n",
    "    if pd.isnull(in_str):\n",
    "        return None\n",
    "    split_text = in_str.split(\" \")\n",
    "    first_text = split_text[0]\n",
    "    first_text = re.sub(\"\\+\",\"\",first_text)  # Remove +\n",
    "    first_text = re.sub(\"\\$\",\"\",first_text)   # Remove $\n",
    "    first_text = re.sub(\"\\,\",\"\",first_text)   # Remove ,\n",
    "    try:\n",
    "        return int(first_text)\n",
    "    except Exception:\n",
    "        return None"
   ]
  },
  {
   "cell_type": "code",
   "execution_count": 4,
   "metadata": {
    "collapsed": true
   },
   "outputs": [],
   "source": [
    "data = pd.read_csv(\"thanksgiving.csv\", encoding=\"Latin-1\")\n",
    "\n",
    "# print (data[:5])"
   ]
  },
  {
   "cell_type": "code",
   "execution_count": 5,
   "metadata": {
    "collapsed": true
   },
   "outputs": [],
   "source": [
    "# print (data.columns)"
   ]
  },
  {
   "cell_type": "code",
   "execution_count": 6,
   "metadata": {
    "collapsed": false
   },
   "outputs": [],
   "source": [
    "quest_01 = \"Do you celebrate Thanksgiving?\"\n",
    "celeb_counts = calc_col_counts(data,quest_01)\n",
    "# print (celeb_counts)\n",
    "celeb_thnx = data[data[quest_01] == \"Yes\"]\n",
    "# print (len(celeb_thnx))"
   ]
  },
  {
   "cell_type": "code",
   "execution_count": 7,
   "metadata": {
    "collapsed": false
   },
   "outputs": [],
   "source": [
    "quest_02 = \"What is typically the main dish at your Thanksgiving dinner?\"\n",
    "quest_03 = \"Do you typically have gravy?\"\n",
    "main_counts = calc_col_counts(data,quest_02)\n",
    "# print (main_counts)\n",
    "main_tofurkey = data[data[quest_02] == \"Tofurkey\"]\n",
    "# print (main_tofurkey[quest_03])"
   ]
  },
  {
   "cell_type": "code",
   "execution_count": 8,
   "metadata": {
    "collapsed": false
   },
   "outputs": [
    {
     "name": "stdout",
     "output_type": "stream",
     "text": [
      "False    876\n",
      "True     182\n",
      "dtype: int64\n"
     ]
    }
   ],
   "source": [
    "quest_04apl = \"Which type of pie is typically served at your Thanksgiving dinner? Please select all that apply. - Apple\"\n",
    "quest_04pcn = \"Which type of pie is typically served at your Thanksgiving dinner? Please select all that apply. - Pecan\"\n",
    "quest_04pmp = \"Which type of pie is typically served at your Thanksgiving dinner? Please select all that apply. - Pumpkin\"\n",
    "apple_isnull = pd.isnull(data[quest_04apl])\n",
    "pecan_isnull = pd.isnull(data[quest_04pcn])\n",
    "pumpkin_isnull = pd.isnull(data[quest_04pmp])\n",
    "ate_pies =  apple_isnull & pecan_isnull & pumpkin_isnull \n",
    "did_eat_pie_counts = ate_pies.value_counts()\n",
    "print (did_eat_pie_counts)"
   ]
  },
  {
   "cell_type": "code",
   "execution_count": 9,
   "metadata": {
    "collapsed": false
   },
   "outputs": [
    {
     "data": {
      "text/plain": [
       "count    1025.000000\n",
       "mean       39.383415\n",
       "std        15.398493\n",
       "min        18.000000\n",
       "25%        30.000000\n",
       "50%        45.000000\n",
       "75%        60.000000\n",
       "max        60.000000\n",
       "Name: int_age, dtype: float64"
      ]
     },
     "execution_count": 9,
     "metadata": {},
     "output_type": "execute_result"
    }
   ],
   "source": [
    "data[\"int_age\"] = data[\"Age\"].apply(str_to_int)\n",
    "data[\"int_age\"].describe()"
   ]
  },
  {
   "cell_type": "code",
   "execution_count": 10,
   "metadata": {
    "collapsed": false
   },
   "outputs": [
    {
     "data": {
      "text/plain": [
       "count       889.000000\n",
       "mean      74077.615298\n",
       "std       59360.742902\n",
       "min           0.000000\n",
       "25%       25000.000000\n",
       "50%       50000.000000\n",
       "75%      100000.000000\n",
       "max      200000.000000\n",
       "Name: int_income, dtype: float64"
      ]
     },
     "execution_count": 10,
     "metadata": {},
     "output_type": "execute_result"
    }
   ],
   "source": [
    "data[\"int_income\"] = data[\"How much total combined money did all members of your HOUSEHOLD earn last year?\"].apply(str_to_int)\n",
    "data[\"int_income\"].describe()"
   ]
  },
  {
   "cell_type": "markdown",
   "metadata": {},
   "source": [
    "# What we have so far:\n",
    "\n",
    "###Cells 1 through 3 -- Setup\n",
    "\n",
    "Cell [1] : Imports (currently **pandas** [as *pd*] and **re**) \n",
    "\n",
    "Cell [2] : Count and Total functions \n",
    "\n",
    "Cell [3] : String to Int function\n",
    "\n",
    "---\n",
    "\n",
    "### Cell 4 and on -- Code!\n",
    "\n",
    "Cell [4] : Read the file \n",
    "\n",
    "Cell [5] : Print columns \n",
    "\n",
    "Cell [6] : \"*Do you celebrate Thanksgiving?*\" counts \n",
    "\n",
    "Cell [7] : \"*What is typically the main dish at your Thanksgiving dinner?*\" and \"*Do you typically have gravy?*\" data \n",
    "\n",
    "Cell [8] : Pie counts \n",
    "\n",
    "Cell [9] : Convert \"*Age*\" to integer\n",
    "\n",
    "Cell [10] : Convert \"*How much total combined money did all members of your HOUSEHOLD earn last year?*\" to integer"
   ]
  }
 ],
 "metadata": {
  "celltoolbar": "Edit Metadata",
  "kernelspec": {
   "display_name": "Python 3",
   "language": "python",
   "name": "python3"
  },
  "language_info": {
   "codemirror_mode": {
    "name": "ipython",
    "version": 3
   },
   "file_extension": ".py",
   "mimetype": "text/x-python",
   "name": "python",
   "nbconvert_exporter": "python",
   "pygments_lexer": "ipython3",
   "version": "3.4.3"
  }
 },
 "nbformat": 4,
 "nbformat_minor": 0
}
