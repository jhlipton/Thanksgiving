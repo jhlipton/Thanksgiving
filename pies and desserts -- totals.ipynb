{
 "cells": [
  {
   "cell_type": "markdown",
   "metadata": {},
   "source": [
    "# Analyzing Thanksgiving\n",
    "The project came from the DataQuest mission [Guided Project: Analyzing Thanksgiving Dinner](https://www.dataquest.io/m/219/guided-project-analyzing-thanksgiving-dinner).\n",
    "The dataset came from [FiveThirtyEight](https://www.fivethirtyeight.com/), and can be found [here](https://github.com/fivethirtyeight/data/tree/master/thanksgiving-2015). \n",
    "\n",
    "### The challenge:\n",
    "Determine how many respondents had no pies, how many had 1 pie, how many had 2, and so on.  The processing for pies will be repeated for desserts.\n",
    "\n",
    "### The data:\n",
    "\n",
    "The data for pies and desserts are stored in multiple columns, one for each type of pie (apple, pumpkin, sweet potato, etc), as well as a \"None\" and two \"Other\" columns.  Desserts follow the same format.  If a respondent chose a pie or dessert, the name (\"Apple\", \"Pumpkin\", \"Brownies\") is stored for that pie/desseert and that respondent.\n",
    "\n",
    "### Filtering and Factoring\n",
    "\n",
    "The first step was to only use the questions about pies and deserts.  I created a new CSV file with all the questions and added a Subcategory column.  This way I could easily find just the questions I was looking for.  The next step was to convert pie and dessert names into counts.  This was done in the functions *calc\\_pie\\_counts* and *calc\\_dessert\\_counts*.  Please see the cell documentation for more information.\n",
    "\n",
    "### Graphing:\n",
    "\n",
    "I chose side-by-side bar graphs to show the relative numbers of pies and desserts."
   ]
  },
  {
   "cell_type": "code",
   "execution_count": 1,
   "metadata": {
    "collapsed": true
   },
   "outputs": [],
   "source": [
    "# import modules\n",
    "import pandas as pd\n",
    "import numpy as np\n",
    "import matplotlib.pyplot as plt\n",
    "import re"
   ]
  },
  {
   "cell_type": "markdown",
   "metadata": {},
   "source": [
    "\n",
    "### Function to count pies:\n",
    "\n",
    "    - For each respondent :\n",
    "        - Loop through \"pie questions\"\n",
    "            - get current question, split at '-' and strip out leading and trailing spaces\n",
    "            - get the count for this type of pie while we're here\n",
    "            - Response will be the pie_answer if the respondent chose that pie, NaN if not\n",
    "            \n",
    "        - pie_count now has a count of pies for this respondent, pop into variable\n",
    "        - If our Dictionary already has this count, bump it by one; otherwise, set to 1 (standard Dictionary action)\n",
    "        - Delete and rebuild the count Dictionary for the next respondent"
   ]
  },
  {
   "cell_type": "code",
   "execution_count": 2,
   "metadata": {
    "collapsed": true
   },
   "outputs": [],
   "source": [
    "#Function to count pies\n",
    "def calc_pie_counts(pie_quest_count, pie_questions, data, num_responses):\n",
    "    pie_count = {\"all_pies\":0}  # Create a single item Dictionary\n",
    "    \n",
    "    # For each respondent :\n",
    "    for data_idx in range (num_responses):\n",
    "        # Loop through \"pie questions\"\n",
    "        for idx in range(pie_quest_count):\n",
    "            # get current question, split at '-' and strip out leading and trailing spaces\n",
    "            row = pie_questions.iloc[idx] \n",
    "            next_ques = row[2]\n",
    "            all_the_words = next_ques.split('-')\n",
    "            pie_answer = all_the_words[-1]  # the last word of the question is the response\n",
    "            pie_answer = pie_answer.strip(' ')\n",
    "            # Response will be the pie_answer if the respondent chose that pie, NaN if not\n",
    "            response = data[next_ques].iloc[data_idx]\n",
    "            if str(response) == pie_answer:\n",
    "                pie_count[\"all_pies\"] += 1\n",
    "                \n",
    "                #Collect counts by type of pie while we're here\n",
    "                if pie_answer in pie_data:\n",
    "                    pie_data[pie_answer] += 1\n",
    "                else:\n",
    "                    pie_data[pie_answer] = 1\n",
    "\n",
    "        # pie_count now has a count of pies for this respondent, pop into variable\n",
    "        pies_for_resp =  pie_count['all_pies']\n",
    "        \n",
    "        # If our Dictionary already has this count, bump it by one; otherwise, set to 1 (standard Dictionary action)\n",
    "        if pies_for_resp in pie_dict:\n",
    "            pie_dict[pies_for_resp] += 1\n",
    "        else:\n",
    "            pie_dict[pies_for_resp] = 1\n",
    "            \n",
    "        # Delete and rebuild the count Dictionary for the next respondent\n",
    "        del pie_count[\"all_pies\"]\n",
    "        pie_count = {\"all_pies\":0}\n",
    "    \n",
    "  "
   ]
  },
  {
   "cell_type": "code",
   "execution_count": 3,
   "metadata": {
    "collapsed": true
   },
   "outputs": [],
   "source": [
    "# Repeat function for desserts\n",
    "def calc_dessert_counts(dessert_quest_count, dessert_questions, data, num_responses):\n",
    "    dessert_count = {\"all_desserts\":0}\n",
    "    for data_idx in range (num_responses):\n",
    "        for idx in range(dessert_quest_count):\n",
    "            row = dessert_questions.iloc[idx] \n",
    "            next_ques = row[2]\n",
    "            all_the_words = next_ques.split('-')\n",
    "            dessert_answer = all_the_words[-1]  # the last word of the question is the response\n",
    "            dessert_answer = dessert_answer.strip(' ')\n",
    "            response = data[next_ques].iloc[data_idx]\n",
    "            if str(response) == dessert_answer:\n",
    "                dessert_count[\"all_desserts\"] += 1\n",
    "                if dessert_answer in dessert_data:\n",
    "                    dessert_data[dessert_answer] += 1\n",
    "                else:\n",
    "                    dessert_data[dessert_answer] = 1\n",
    "\n",
    "        desserts_for_resp =  dessert_count['all_desserts']\n",
    "        if desserts_for_resp in dessert_dict:\n",
    "            dessert_dict[desserts_for_resp] += 1\n",
    "        else:\n",
    "            dessert_dict[desserts_for_resp] = 1\n",
    "        del dessert_count[\"all_desserts\"]\n",
    "        dessert_count = {\"all_desserts\":0}\n",
    "\n"
   ]
  },
  {
   "cell_type": "markdown",
   "metadata": {},
   "source": [
    "### Actual processing starts here\n",
    "\n",
    "- Read the main data file and the list of Subcategories\n"
   ]
  },
  {
   "cell_type": "code",
   "execution_count": 4,
   "metadata": {
    "collapsed": true
   },
   "outputs": [],
   "source": [
    "#Read the main data file and the list of Subcategories\n",
    "data = pd.read_csv(r\"G:\\Python34\\Projects\\Thanksgiving\\thanksgiving.csv\", encoding=\"Latin-1\")\n",
    "question_list = pd.read_csv(r\"G:\\Python34\\Projects\\Thanksgiving\\thanksgiving questions.csv\")"
   ]
  },
  {
   "cell_type": "markdown",
   "metadata": {},
   "source": [
    "### Count how many responders had how many pies and desserts\n",
    "\n",
    "- Get only the \"Pie Questions\"\n",
    "- Use the function above to get counts and numbers\n",
    "- Transform into Lists for graphing\n",
    "\n",
    "- Repeat for desserts"
   ]
  },
  {
   "cell_type": "code",
   "execution_count": 5,
   "metadata": {},
   "outputs": [],
   "source": [
    "# Count the number of pies for each respondent, then get how many respondents had how many pies\n",
    "pie_questions = question_list[question_list[\"Subcategory\"]== \"Pie\"]\n",
    "pie_quest_count = len(pie_questions) - 3 #  Skip \"Other\" and \"None\"\n",
    "num_responses = len(data[\"RespondentID\"])\n",
    "\n",
    "# Create an empty Dictionary of counts and numbers, and another to count each type of pie\n",
    "pie_dict = {}\n",
    "pie_data = {}\n",
    "\n",
    "# Let the function do the work\n",
    "dmmy_val = calc_pie_counts(pie_quest_count, pie_questions, data, num_responses)\n",
    "\n",
    "# Transform into to Lists for graphing\n",
    "pie_count_list = []\n",
    "pie_num_list = []\n",
    "pie_type = []\n",
    "pie_total = []\n",
    "\n",
    "for key, value in sorted(pie_dict.items(), key=lambda k: k):\n",
    "    pie_count_list.append(key)\n",
    "    pie_num_list.append(value)\n",
    "    \n",
    "for key, value in sorted(pie_data.items(), key=lambda x: x[1], reverse=True):\n",
    "    pie_type.append(key)\n",
    "    pie_total.append(value)\n"
   ]
  },
  {
   "cell_type": "code",
   "execution_count": 6,
   "metadata": {},
   "outputs": [
    {
     "name": "stdout",
     "output_type": "stream",
     "text": [
      "Ice cream 266\n",
      "Cookies 204\n",
      "Cheesecake 191\n",
      "Brownies 128\n",
      "Apple cobbler 110\n",
      "Peach cobbler 103\n",
      "Carrot cake 72\n",
      "Fudge 43\n",
      "Blondies 16\n"
     ]
    }
   ],
   "source": [
    "#Repeat for desserts\n",
    "\n",
    "dessert_questions = question_list[question_list[\"Subcategory\"]== \"Dessert\"]\n",
    "dessert_quest_count = len(dessert_questions) - 3 #  Skip \"Other\" and \"None\"\n",
    "num_responses = len(data[\"RespondentID\"])\n",
    "dessert_dict = {}\n",
    "dessert_data = {}\n",
    "\n",
    "dmmy_val = calc_dessert_counts(dessert_quest_count, dessert_questions, data, num_responses)\n",
    "\n",
    "dessert_count_list = []\n",
    "dessert_num_list = []\n",
    "dessert_type = []\n",
    "dessert_total = []\n",
    "\n",
    "for key, value in sorted(dessert_dict.items(), key=lambda x: x[1]):\n",
    "    dessert_count_list.append(key)\n",
    "    dessert_num_list.append(value)\n",
    "    \n",
    "for key, value in sorted(dessert_data.items(), key=lambda x: x[1], reverse=True):\n",
    "    print (key, value)\n",
    "    dessert_type.append(key)\n",
    "    dessert_total.append(value)\n",
    "    "
   ]
  },
  {
   "cell_type": "markdown",
   "metadata": {},
   "source": [
    "### Show the data\n",
    "\n",
    "- A bar graph shows the number of pies and desserts, as well as the popularity of each, most cleanly"
   ]
  },
  {
   "cell_type": "code",
   "execution_count": 7,
   "metadata": {},
   "outputs": [
    {
     "data": {
      "image/png": "[encoded data removed]",
      "text/plain": [
       "<matplotlib.figure.Figure at 0x9838d30>"
      ]
     },
     "metadata": {},
     "output_type": "display_data"
    }
   ],
   "source": [
    "# Create graphs\n",
    "plt.style.use('seaborn')\n",
    "fig = plt.figure(figsize=(15,12))\n",
    "ind = np.arange(10)\n",
    "\n",
    "# Set labels and title, and build bar graph of counts for pies\n",
    "ax1 = fig.add_subplot(2,2,1)\n",
    "ax1.set_ylabel('Number of responses')\n",
    "ax1.set_xlabel('# of Pies')\n",
    "ax1.set_title(\"Pies\", weight=\"bold\", fontsize=11)\n",
    "ax1.bar(ind, pie_num_list, 0.5)\n",
    "\n",
    "# Repeat for desserts\n",
    "ax2 = fig.add_subplot(2,2,2)\n",
    "ax2.set_ylabel('Number of responses')\n",
    "ax2.set_xlabel('# of Desserts')\n",
    "ax2.set_title(\"Desserts\", weight=\"bold\", fontsize=11)\n",
    "ax2.bar(ind, dessert_num_list, 0.5)\n",
    "\n",
    "# Set labels and title, and build bar graph of counts for each type of pie\n",
    "tick_positions = range(0,10)\n",
    "ax3 = fig.add_subplot(2,2,3)\n",
    "ax3.set_ylabel('Number of responses')\n",
    "ax3.set_xlabel('Pie Types')\n",
    "ax3.set_title(\"Pies\", weight=\"bold\", fontsize=11)\n",
    "ax3.set_xticklabels(pie_type, rotation=90)\n",
    "ax3.set_xticks(tick_positions)\n",
    "ax3.bar(ind, pie_total, 0.5)\n",
    "\n",
    "# Set labels and title, and build bar graph of counts for each type of dessert\n",
    "ind = np.arange(9)\n",
    "tick_positions = range(0,9)\n",
    "ax4 = fig.add_subplot(2,2,4)\n",
    "ax4.set_ylabel('Number of responses')\n",
    "ax4.set_xlabel('dessert Types')\n",
    "ax4.set_title(\"Desserts\", weight=\"bold\", fontsize=11)\n",
    "ax4.set_xticklabels(dessert_type, rotation=90)\n",
    "ax4.set_xticks(tick_positions)\n",
    "ax4.bar(ind, dessert_total, 0.5)\n",
    "\n",
    "plt.show()"
   ]
  },
  {
   "cell_type": "markdown",
   "metadata": {},
   "source": [
    "### Conclusion:\n",
    "\n",
    "Most people had 2 pies.  Few had 4 and hardly any had 5 or more.\n",
    "\n",
    "Desserts are not near as popular as pies, with most respondents not having any desserts at all. Again, few had 4 desserts, and hardly any had 5 or more.\n",
    "\n",
    "No surprises amongst the most popular pies and desserts -- pumpkin and apple; and ice cream and cookies respectively. It's a odd that cheesecake is almost as popular as cookies, though."
   ]
  }
 ],
 "metadata": {
  "celltoolbar": "Edit Metadata",
  "kernelspec": {
   "display_name": "Python 3",
   "language": "python",
   "name": "python3"
  },
  "language_info": {
   "codemirror_mode": {
    "name": "ipython",
    "version": 3
   },
   "file_extension": ".py",
   "mimetype": "text/x-python",
   "name": "python",
   "nbconvert_exporter": "python",
   "pygments_lexer": "ipython3",
   "version": "3.6.1"
  }
 },
 "nbformat": 4,
 "nbformat_minor": 1
}
